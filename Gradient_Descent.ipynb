{
  "nbformat": 4,
  "nbformat_minor": 0,
  "metadata": {
    "colab": {
      "provenance": [],
      "authorship_tag": "ABX9TyPPXB5wtjEjxC5WYmbZ1cba",
      "include_colab_link": true
    },
    "kernelspec": {
      "name": "python3",
      "display_name": "Python 3"
    },
    "language_info": {
      "name": "python"
    }
  },
  "cells": [
    {
      "cell_type": "markdown",
      "metadata": {
        "id": "view-in-github",
        "colab_type": "text"
      },
      "source": [
        "<a href=\"https://colab.research.google.com/github/seunghyeon98/DeepLearning/blob/main/Gradient_Descent.ipynb\" target=\"_parent\"><img src=\"https://colab.research.google.com/assets/colab-badge.svg\" alt=\"Open In Colab\"/></a>"
      ]
    },
    {
      "cell_type": "code",
      "execution_count": null,
      "metadata": {
        "colab": {
          "base_uri": "https://localhost:8080/"
        },
        "id": "g-glgDPuhWWU",
        "outputId": "b738e410-a46c-45e0-f12e-a6cb5d8b1cad"
      },
      "outputs": [
        {
          "output_type": "stream",
          "name": "stdout",
          "text": [
            "Iteration 0, Loss: 31.009348571941214, gradients: [[-10.88030948]\n",
            " [-11.15424025]]\n",
            "Iteration 100, Loss: 1.2593340863481308, gradients: [[-0.56439232]\n",
            " [ 0.1924871 ]]\n",
            "Iteration 200, Loss: 1.032732241130855, gradients: [[-0.29594664]\n",
            " [ 0.2567993 ]]\n",
            "Iteration 300, Loss: 0.9211538479419882, gradients: [[-0.20908762]\n",
            " [ 0.18454663]]\n",
            "Iteration 400, Loss: 0.8646271717032143, gradients: [[-0.14879923]\n",
            " [ 0.13138066]]\n",
            "Iteration 500, Loss: 0.8359898653247526, gradients: [[-0.10591042]\n",
            " [ 0.09351313]]\n",
            "Iteration 600, Loss: 0.8214817538360637, gradients: [[-0.0753838 ]\n",
            " [ 0.06655979]]\n",
            "Iteration 700, Loss: 0.8141317155263502, gradients: [[-0.05365588]\n",
            " [ 0.04737523]]\n",
            "Iteration 800, Loss: 0.8104080700886663, gradients: [[-0.03819062]\n",
            " [ 0.03372024]]\n",
            "Iteration 900, Loss: 0.8085216125273149, gradients: [[-0.02718292]\n",
            " [ 0.02400104]]\n",
            "Final Parameters (Theta): [[4.15809376]\n",
            " [2.8204434 ]]\n"
          ]
        }
      ],
      "source": [
        "import numpy as np\n",
        "\n",
        "# Generate synthetic data for a linear regression problem\n",
        "np.random.seed(42)\n",
        "X = 2 * np.random.rand(100, 1)\n",
        "# print(X)\n",
        "y = 4 + 3 * X + np.random.randn(100, 1)\n",
        "\n",
        "# Add a bias term to the input features\n",
        "X_b = np.c_[np.ones((100, 1)), X]\n",
        "\n",
        "# Initialize random weights (parameters)\n",
        "theta = np.random.randn(2, 1)\n",
        "\n",
        "# Set hyperparameters\n",
        "learning_rate = 0.01\n",
        "n_iterations = 1000\n",
        "\n",
        "# Gradient Descent\n",
        "for iteration in range(n_iterations):\n",
        "    # Forward pass: Calculate predictions\n",
        "    predictions = X_b.dot(theta)\n",
        "\n",
        "    # Compute the mean squared error (MSE) loss\n",
        "    mse_loss = np.mean((predictions - y)**2)\n",
        "\n",
        "    # Backward pass: Calculate gradients\n",
        "    gradients = 2/len(X) * X_b.T.dot(predictions - y)\n",
        "\n",
        "    # Update parameters using the gradients and learning rate\n",
        "    theta -= learning_rate * gradients\n",
        "\n",
        "    # Print the loss every 100 iterations\n",
        "    if iteration % 100 == 0:\n",
        "        print(f\"Iteration {iteration}, Loss: {mse_loss}, gradients: {gradients}\")\n",
        "\n",
        "print(\"Final Parameters (Theta):\", theta)"
      ]
    },
    {
      "cell_type": "code",
      "source": [],
      "metadata": {
        "id": "-wisNnHMhikY"
      },
      "execution_count": null,
      "outputs": []
    }
  ]
}