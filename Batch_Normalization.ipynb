{
  "nbformat": 4,
  "nbformat_minor": 0,
  "metadata": {
    "colab": {
      "provenance": [],
      "authorship_tag": "ABX9TyNuLE4h8nx42qNcvR3rXMv5",
      "include_colab_link": true
    },
    "kernelspec": {
      "name": "python3",
      "display_name": "Python 3"
    },
    "language_info": {
      "name": "python"
    }
  },
  "cells": [
    {
      "cell_type": "markdown",
      "metadata": {
        "id": "view-in-github",
        "colab_type": "text"
      },
      "source": [
        "<a href=\"https://colab.research.google.com/github/seunghyeon98/DeepLearning/blob/main/Batch_Normalization.ipynb\" target=\"_parent\"><img src=\"https://colab.research.google.com/assets/colab-badge.svg\" alt=\"Open In Colab\"/></a>"
      ]
    },
    {
      "cell_type": "markdown",
      "source": [
        "# 구현"
      ],
      "metadata": {
        "id": "3tFnvA3AA05u"
      }
    },
    {
      "cell_type": "code",
      "execution_count": null,
      "metadata": {
        "colab": {
          "base_uri": "https://localhost:8080/"
        },
        "id": "o2_RmWap_1y8",
        "outputId": "9dbc3e8d-b891-4e64-a107-e2516747f28a"
      },
      "outputs": [
        {
          "output_type": "stream",
          "name": "stdout",
          "text": [
            "[0.29990331 1.34436924 2.38883517 3.4333011  4.47776703 5.52223297\n",
            " 6.5666989  7.61116483 8.65563076 9.70009669]\n"
          ]
        }
      ],
      "source": [
        "import numpy as np\n",
        "\n",
        "X = np.array([1,2,3,4,5,6,7,8,9,10])\n",
        "\n",
        "# 1. 평균 구하기\n",
        "X_mean = np.mean(X)\n",
        "\n",
        "# 2. 분산 구하기\n",
        "X_var = np.var(X)\n",
        "\n",
        "# 3. 정규화 하기\n",
        "epsilon = 1e-8 # 분모가 0이 되는 것을 막기 위한 작은 숫자 : 안전을 위한 항(smoothing term)\n",
        "X_norm = (X-X_mean) / (np.sqrt(X_var) + epsilon)\n",
        "\n",
        "# 4. 배치 정규화의 출력값 구하기\n",
        "gamma = 3 # 배치 정규화의 훈련 파라미터\n",
        "beta = 5 # 배치 정규화의 훈련 파라미터\n",
        "output = gamma*X_norm + beta\n",
        "\n",
        "print(output)"
      ]
    },
    {
      "cell_type": "markdown",
      "source": [
        "# Keras에서 배치 정규화 사용"
      ],
      "metadata": {
        "id": "rTJ6OOvNA3jC"
      }
    },
    {
      "cell_type": "code",
      "source": [
        "model = keras.models.Sequential([\n",
        "    keras.layers.Flatten(input_shape=[28,28]),\n",
        "    keras.layers.BatchNormalization(),\n",
        "    keras.layers.Dense(300,activation='elu',kernel_initalizer='he_normal'),\n",
        "    keras.layers.BatchNormalization(),\n",
        "    ~\n",
        "])"
      ],
      "metadata": {
        "id": "Tf1i9OInAWIF"
      },
      "execution_count": null,
      "outputs": []
    },
    {
      "cell_type": "code",
      "source": [],
      "metadata": {
        "id": "MMxkRF8BA3Fg"
      },
      "execution_count": null,
      "outputs": []
    }
  ]
}