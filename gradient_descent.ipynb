{
  "nbformat": 4,
  "nbformat_minor": 0,
  "metadata": {
    "colab": {
      "provenance": [],
      "authorship_tag": "ABX9TyN18kCJ8mdgrv5PyH6R8tRd",
      "include_colab_link": true
    },
    "kernelspec": {
      "name": "python3",
      "display_name": "Python 3"
    },
    "language_info": {
      "name": "python"
    }
  },
  "cells": [
    {
      "cell_type": "markdown",
      "metadata": {
        "id": "view-in-github",
        "colab_type": "text"
      },
      "source": [
        "<a href=\"https://colab.research.google.com/github/seunghyeon98/DeepLearning/blob/main/gradient_descent.ipynb\" target=\"_parent\"><img src=\"https://colab.research.google.com/assets/colab-badge.svg\" alt=\"Open In Colab\"/></a>"
      ]
    },
    {
      "cell_type": "code",
      "execution_count": null,
      "metadata": {
        "colab": {
          "base_uri": "https://localhost:8080/"
        },
        "id": "g-glgDPuhWWU",
        "outputId": "b597364c-962b-4bf4-95f7-3dbc4c6f5fc8"
      },
      "outputs": [
        {
          "output_type": "stream",
          "name": "stdout",
          "text": [
            "(100, 2)\n",
            "theta: [[0.01300189]\n",
            " [1.45353408]], theta shape: (2, 1)\n"
          ]
        }
      ],
      "source": [
        "import numpy as np\n",
        "\n",
        "# Generate synthetic data for a linear regression problem\n",
        "np.random.seed(42)\n",
        "X = 2 * np.random.rand(100, 1)\n",
        "# print(X)\n",
        "y = 4 + 3 * X + np.random.randn(100, 1)\n",
        "\n",
        "# Add a bias term to the input features\n",
        "X_b = np.c_[np.ones((100, 1)), X]\n",
        "# print(f'X_b: {X_b}')\n",
        "print(X_b.shape)\n",
        "\n",
        "# Initialize random weights (parameters)\n",
        "theta = np.random.randn(2, 1)\n",
        "print(f'theta: {theta}, theta shape: {theta.shape}')\n",
        "\n",
        "# Set hyperparameters\n",
        "learning_rate = 0.01\n",
        "n_iterations = 1000\n"
      ]
    },
    {
      "cell_type": "code",
      "source": [
        "\n",
        "# Gradient Descent\n",
        "for iteration in range(n_iterations):\n",
        "    # Forward pass: Calculate predictions\n",
        "    #  y = (X*beta) * theta\n",
        "    predictions = X_b.dot(theta)\n",
        "\n",
        "    # Compute the mean squared error (MSE) loss\n",
        "    mse_loss = np.mean((predictions - y)**2)\n",
        "\n",
        "    # Backward pass: Calculate gradients\n",
        "    gradients = 2/len(X) * X_b.T.dot(predictions - y)\n",
        "\n",
        "    # Update parameters using the gradients and learning rate\n",
        "    theta -= learning_rate * gradients\n",
        "\n",
        "    # Print the loss every 100 iterations\n",
        "    if iteration % 100 == 0:\n",
        "        print(f\"Iteration {iteration}, Loss: {mse_loss}, gradients: {gradients}\")\n",
        "\n",
        "print(\"Final Parameters (Theta):\", theta)"
      ],
      "metadata": {
        "id": "-wisNnHMhikY"
      },
      "execution_count": null,
      "outputs": []
    }
  ]
}